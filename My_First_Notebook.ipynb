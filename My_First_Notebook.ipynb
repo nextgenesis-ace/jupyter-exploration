{
  "metadata": {
    "kernelspec": {
      "name": "python",
      "display_name": "Python (Pyodide)",
      "language": "python"
    },
    "language_info": {
      "codemirror_mode": {
        "name": "python",
        "version": 3
      },
      "file_extension": ".py",
      "mimetype": "text/x-python",
      "name": "python",
      "nbconvert_exporter": "python",
      "pygments_lexer": "ipython3",
      "version": "3.8"
    }
  },
  "nbformat_minor": 5,
  "nbformat": 4,
  "cells": [
    {
      "id": "3e9caf8b-a4ed-4d21-b6d2-50eb4b081b31",
      "cell_type": "markdown",
      "source": "Aaron's first markdown cell in Jupyter.",
      "metadata": {}
    },
    {
      "id": "fc861ad4-8f0f-47a3-a197-096dc888ad44",
      "cell_type": "code",
      "source": "print(\"Hello, World!\")",
      "metadata": {
        "trusted": true
      },
      "outputs": [
        {
          "name": "stdout",
          "text": "Hello, World!\n",
          "output_type": "stream"
        }
      ],
      "execution_count": 1
    },
    {
      "id": "89fe863d-4460-4a0a-8c30-d6859a99f6bd",
      "cell_type": "code",
      "source": "",
      "metadata": {
        "trusted": true
      },
      "outputs": [],
      "execution_count": null
    }
  ]
}